{
  "nbformat": 4,
  "nbformat_minor": 0,
  "metadata": {
    "colab": {
      "name": "lambda_function.ipynb",
      "provenance": []
    },
    "kernelspec": {
      "name": "python3",
      "display_name": "Python 3"
    },
    "language_info": {
      "name": "python"
    }
  },
  "cells": [
    {
      "cell_type": "code",
      "execution_count": null,
      "metadata": {
        "id": "hmpddtB1Kr80"
      },
      "outputs": [],
      "source": [
        "import json\n",
        "import requests\n",
        "\n",
        "def laughter_news():\n",
        "    try:\n",
        "        URL = 'https://uselessfacts.jsph.pl/random.json?language=en'\n",
        "        r = requests.get(url = URL)\n",
        "        data = r.json()\n",
        "        print(data)\n",
        "        return data['text']\n",
        "    except:\n",
        "        return \"Telly Savalas and Louis Armstrong died on their birthdays.\"\n",
        "def lambda_handler(event, content):\n",
        "    response = {\n",
        "        \"dialogAction\": {\n",
        "            \"type\": \"Close\",\n",
        "            \"fulfillmentState\": \"Fulfilled\",\n",
        "            \"message\": {\n",
        "                \"contentType\": \"PlainText\"\n",
        "            }\n",
        "        }\n",
        "    }\n",
        "    print(event)\n",
        "    if event[\"currentIntent\"][\"name\"] == \"JokeIntent\":\n",
        "        response[\"dialogAction\"][\"message\"][\"content\"] = laughter_news()\n",
        "        return response"
      ]
    }
  ]
}